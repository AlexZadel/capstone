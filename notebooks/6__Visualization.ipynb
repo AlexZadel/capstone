{
 "cells": [
  {
   "cell_type": "code",
   "execution_count": 8,
   "metadata": {},
   "outputs": [],
   "source": [
    "import seaborn as sns\n",
    "import pandas as pd\n",
    "import numpy as np\n",
    "import matplotlib.pyplot as plt\n",
    "import matplotlib.style as style\n",
    "\n",
    "style.use('fivethirtyeight')\n",
    "\n",
    "%matplotlib inline\n",
    "\n",
    "pd.set_option('display.max_columns', 500)"
   ]
  },
  {
   "cell_type": "code",
   "execution_count": 9,
   "metadata": {},
   "outputs": [],
   "source": [
    "predictions = pd.read_csv('/Users/Alexz/CodeMaster/capstone/capstone_repo/data/2018_predictions.csv')\n",
    "predictions.drop('Unnamed: 0', axis=1, inplace=True)"
   ]
  },
  {
   "cell_type": "code",
   "execution_count": 10,
   "metadata": {},
   "outputs": [
    {
     "data": {
      "text/html": [
       "<div>\n",
       "<style scoped>\n",
       "    .dataframe tbody tr th:only-of-type {\n",
       "        vertical-align: middle;\n",
       "    }\n",
       "\n",
       "    .dataframe tbody tr th {\n",
       "        vertical-align: top;\n",
       "    }\n",
       "\n",
       "    .dataframe thead th {\n",
       "        text-align: right;\n",
       "    }\n",
       "</style>\n",
       "<table border=\"1\" class=\"dataframe\">\n",
       "  <thead>\n",
       "    <tr style=\"text-align: right;\">\n",
       "      <th></th>\n",
       "      <th>race_id</th>\n",
       "      <th>state</th>\n",
       "      <th>abbrev</th>\n",
       "      <th>predictions</th>\n",
       "      <th>GOP_candidate</th>\n",
       "      <th>DEM_candidate</th>\n",
       "      <th>FTE_GOP</th>\n",
       "      <th>FTE_DEM</th>\n",
       "      <th>FTE_label</th>\n",
       "      <th>FTE_GOP_win</th>\n",
       "      <th>GOP_prob</th>\n",
       "      <th>DEM_prob</th>\n",
       "    </tr>\n",
       "  </thead>\n",
       "  <tbody>\n",
       "    <tr>\n",
       "      <th>0</th>\n",
       "      <td>2018_AZ_sen</td>\n",
       "      <td>Arizona</td>\n",
       "      <td>AZ</td>\n",
       "      <td>0</td>\n",
       "      <td>Martha  McSally</td>\n",
       "      <td>Kyrsten Sinema</td>\n",
       "      <td>0.389</td>\n",
       "      <td>0.611</td>\n",
       "      <td>Lean D</td>\n",
       "      <td>0</td>\n",
       "      <td>0.458060</td>\n",
       "      <td>0.541940</td>\n",
       "    </tr>\n",
       "    <tr>\n",
       "      <th>1</th>\n",
       "      <td>2018_CA_sen</td>\n",
       "      <td>California</td>\n",
       "      <td>CA</td>\n",
       "      <td>0</td>\n",
       "      <td>none</td>\n",
       "      <td>Dianne Feinstein</td>\n",
       "      <td>0.000</td>\n",
       "      <td>0.956</td>\n",
       "      <td>Solid D</td>\n",
       "      <td>0</td>\n",
       "      <td>0.258641</td>\n",
       "      <td>0.741359</td>\n",
       "    </tr>\n",
       "    <tr>\n",
       "      <th>2</th>\n",
       "      <td>2018_CT_sen</td>\n",
       "      <td>Connecticut</td>\n",
       "      <td>CT</td>\n",
       "      <td>0</td>\n",
       "      <td>Matthew Corey</td>\n",
       "      <td>Christopher Murphy</td>\n",
       "      <td>0.003</td>\n",
       "      <td>0.997</td>\n",
       "      <td>Solid D</td>\n",
       "      <td>0</td>\n",
       "      <td>0.256379</td>\n",
       "      <td>0.743621</td>\n",
       "    </tr>\n",
       "    <tr>\n",
       "      <th>3</th>\n",
       "      <td>2018_DE_sen</td>\n",
       "      <td>Delaware</td>\n",
       "      <td>DE</td>\n",
       "      <td>0</td>\n",
       "      <td>Rob Arlett</td>\n",
       "      <td>Thomas Carper</td>\n",
       "      <td>0.001</td>\n",
       "      <td>0.999</td>\n",
       "      <td>Solid D</td>\n",
       "      <td>0</td>\n",
       "      <td>0.257478</td>\n",
       "      <td>0.742522</td>\n",
       "    </tr>\n",
       "    <tr>\n",
       "      <th>4</th>\n",
       "      <td>2018_FL_sen</td>\n",
       "      <td>Florida</td>\n",
       "      <td>FL</td>\n",
       "      <td>0</td>\n",
       "      <td>Rick Scott</td>\n",
       "      <td>Bill Nelson</td>\n",
       "      <td>0.298</td>\n",
       "      <td>0.702</td>\n",
       "      <td>Lean D</td>\n",
       "      <td>0</td>\n",
       "      <td>0.273424</td>\n",
       "      <td>0.726576</td>\n",
       "    </tr>\n",
       "  </tbody>\n",
       "</table>\n",
       "</div>"
      ],
      "text/plain": [
       "       race_id        state abbrev  predictions    GOP_candidate  \\\n",
       "0  2018_AZ_sen      Arizona     AZ            0  Martha  McSally   \n",
       "1  2018_CA_sen   California     CA            0             none   \n",
       "2  2018_CT_sen  Connecticut     CT            0    Matthew Corey   \n",
       "3  2018_DE_sen     Delaware     DE            0       Rob Arlett   \n",
       "4  2018_FL_sen      Florida     FL            0       Rick Scott   \n",
       "\n",
       "        DEM_candidate  FTE_GOP  FTE_DEM FTE_label  FTE_GOP_win  GOP_prob  \\\n",
       "0      Kyrsten Sinema    0.389    0.611    Lean D            0  0.458060   \n",
       "1    Dianne Feinstein    0.000    0.956   Solid D            0  0.258641   \n",
       "2  Christopher Murphy    0.003    0.997   Solid D            0  0.256379   \n",
       "3       Thomas Carper    0.001    0.999   Solid D            0  0.257478   \n",
       "4         Bill Nelson    0.298    0.702    Lean D            0  0.273424   \n",
       "\n",
       "   DEM_prob  \n",
       "0  0.541940  \n",
       "1  0.741359  \n",
       "2  0.743621  \n",
       "3  0.742522  \n",
       "4  0.726576  "
      ]
     },
     "execution_count": 10,
     "metadata": {},
     "output_type": "execute_result"
    }
   ],
   "source": [
    "predictions.head()"
   ]
  },
  {
   "cell_type": "code",
   "execution_count": 12,
   "metadata": {},
   "outputs": [
    {
     "data": {
      "text/plain": [
       "8"
      ]
     },
     "execution_count": 12,
     "metadata": {},
     "output_type": "execute_result"
    }
   ],
   "source": [
    "predictions.FTE_GOP_win.sum()"
   ]
  },
  {
   "cell_type": "code",
   "execution_count": 13,
   "metadata": {},
   "outputs": [
    {
     "data": {
      "text/plain": [
       "6"
      ]
     },
     "execution_count": 13,
     "metadata": {},
     "output_type": "execute_result"
    }
   ],
   "source": [
    "predictions.predictions.sum()"
   ]
  },
  {
   "cell_type": "code",
   "execution_count": 15,
   "metadata": {},
   "outputs": [
    {
     "data": {
      "text/plain": [
       "<matplotlib.collections.PathCollection at 0x1dfb262f0b8>"
      ]
     },
     "execution_count": 15,
     "metadata": {},
     "output_type": "execute_result"
    },
    {
     "data": {
      "image/png": "[encoded data removed]",
      "text/plain": [
       "<Figure size 432x288 with 1 Axes>"
      ]
     },
     "metadata": {},
     "output_type": "display_data"
    }
   ],
   "source": [
    "plt.scatter(predictions['FTE_GOP'] , predictions['GOP_prob'])"
   ]
  },
  {
   "cell_type": "code",
   "execution_count": null,
   "metadata": {},
   "outputs": [],
   "source": []
  }
 ],
 "metadata": {
  "kernelspec": {
   "display_name": "Python 3",
   "language": "python",
   "name": "python3"
  },
  "language_info": {
   "codemirror_mode": {
    "name": "ipython",
    "version": 3
   },
   "file_extension": ".py",
   "mimetype": "text/x-python",
   "name": "python",
   "nbconvert_exporter": "python",
   "pygments_lexer": "ipython3",
   "version": "3.6.5"
  }
 },
 "nbformat": 4,
 "nbformat_minor": 2
}
