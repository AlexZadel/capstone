{
 "cells": [
  {
   "cell_type": "code",
   "execution_count": 1,
   "metadata": {},
   "outputs": [],
   "source": [
    "import pandas as pd\n",
    "import numpy as np\n",
    "import regex as re\n",
    "from fuzzywuzzy import fuzz"
   ]
  },
  {
   "cell_type": "code",
   "execution_count": 2,
   "metadata": {},
   "outputs": [],
   "source": [
    "govs = pd.read_csv('./data/governors_races.csv')\n",
    "sens = pd.read_csv('./data/senate_races.csv')"
   ]
  },
  {
   "cell_type": "code",
   "execution_count": 3,
   "metadata": {},
   "outputs": [
    {
     "data": {
      "text/html": [
       "<div>\n",
       "<style scoped>\n",
       "    .dataframe tbody tr th:only-of-type {\n",
       "        vertical-align: middle;\n",
       "    }\n",
       "\n",
       "    .dataframe tbody tr th {\n",
       "        vertical-align: top;\n",
       "    }\n",
       "\n",
       "    .dataframe thead th {\n",
       "        text-align: right;\n",
       "    }\n",
       "</style>\n",
       "<table border=\"1\" class=\"dataframe\">\n",
       "  <thead>\n",
       "    <tr style=\"text-align: right;\">\n",
       "      <th></th>\n",
       "      <th>race_id</th>\n",
       "      <th>candidates</th>\n",
       "      <th>inc</th>\n",
       "      <th>inc_party</th>\n",
       "      <th>inc_party.1</th>\n",
       "      <th>inc_R</th>\n",
       "      <th>inc_results</th>\n",
       "      <th>state</th>\n",
       "      <th>abbrev</th>\n",
       "      <th>rival</th>\n",
       "      <th>year</th>\n",
       "    </tr>\n",
       "  </thead>\n",
       "  <tbody>\n",
       "    <tr>\n",
       "      <th>0</th>\n",
       "      <td>AL_gov_1978</td>\n",
       "      <td>['Fob James (Democratic) 72.6', 'H. Guy Hunt (...</td>\n",
       "      <td>George Wallace\\r\\n</td>\n",
       "      <td>D</td>\n",
       "      <td>Democratic\\r\\n</td>\n",
       "      <td>0</td>\n",
       "      <td>Term-limited, Democratic victory\\r\\n</td>\n",
       "      <td>Alabama</td>\n",
       "      <td>AL</td>\n",
       "      <td>Fob James (Democratic) 72.6</td>\n",
       "      <td>1978</td>\n",
       "    </tr>\n",
       "    <tr>\n",
       "      <th>1</th>\n",
       "      <td>AL_gov_1982</td>\n",
       "      <td>['George Wallace (Democratic) 57.6', 'Emory Fo...</td>\n",
       "      <td>Fob James\\r\\n</td>\n",
       "      <td>D</td>\n",
       "      <td>Democratic\\r\\n</td>\n",
       "      <td>0</td>\n",
       "      <td>Retired, Democratic victory\\r\\n</td>\n",
       "      <td>Alabama</td>\n",
       "      <td>AL</td>\n",
       "      <td>George Wallace (Democratic) 57.6</td>\n",
       "      <td>1982</td>\n",
       "    </tr>\n",
       "    <tr>\n",
       "      <th>2</th>\n",
       "      <td>AL_gov_1986</td>\n",
       "      <td>['H. Guy Hunt (Republican) 56.4', 'Bill Baxley...</td>\n",
       "      <td>George Wallace\\r\\n</td>\n",
       "      <td>D</td>\n",
       "      <td>Democratic\\r\\n</td>\n",
       "      <td>0</td>\n",
       "      <td>Retired, Republican victory\\r\\n</td>\n",
       "      <td>Alabama</td>\n",
       "      <td>AL</td>\n",
       "      <td>H. Guy Hunt (Republican) 56.4</td>\n",
       "      <td>1986</td>\n",
       "    </tr>\n",
       "    <tr>\n",
       "      <th>3</th>\n",
       "      <td>AL_gov_1990</td>\n",
       "      <td>['Paul Hubbert (Democratic) 47.9', '\\n']</td>\n",
       "      <td>H. Guy Hunt\\r\\n</td>\n",
       "      <td>R</td>\n",
       "      <td>Republican\\r\\n</td>\n",
       "      <td>1</td>\n",
       "      <td>Re-elected, 52.1%\\r\\n</td>\n",
       "      <td>Alabama</td>\n",
       "      <td>AL</td>\n",
       "      <td>Paul Hubbert (Democratic) 47.9</td>\n",
       "      <td>1990</td>\n",
       "    </tr>\n",
       "    <tr>\n",
       "      <th>4</th>\n",
       "      <td>AL_gov_1994</td>\n",
       "      <td>['Fob James (Republican) 50.3', '\\n']</td>\n",
       "      <td>Jim Folsom\\r\\n</td>\n",
       "      <td>D</td>\n",
       "      <td>Democratic\\r\\n</td>\n",
       "      <td>0</td>\n",
       "      <td>Defeated, 49.4%\\r\\n</td>\n",
       "      <td>Alabama</td>\n",
       "      <td>AL</td>\n",
       "      <td>Fob James (Republican) 50.3</td>\n",
       "      <td>1994</td>\n",
       "    </tr>\n",
       "  </tbody>\n",
       "</table>\n",
       "</div>"
      ],
      "text/plain": [
       "       race_id                                         candidates  \\\n",
       "0  AL_gov_1978  ['Fob James (Democratic) 72.6', 'H. Guy Hunt (...   \n",
       "1  AL_gov_1982  ['George Wallace (Democratic) 57.6', 'Emory Fo...   \n",
       "2  AL_gov_1986  ['H. Guy Hunt (Republican) 56.4', 'Bill Baxley...   \n",
       "3  AL_gov_1990           ['Paul Hubbert (Democratic) 47.9', '\\n']   \n",
       "4  AL_gov_1994              ['Fob James (Republican) 50.3', '\\n']   \n",
       "\n",
       "                  inc inc_party     inc_party.1  inc_R  \\\n",
       "0  George Wallace\\r\\n         D  Democratic\\r\\n      0   \n",
       "1       Fob James\\r\\n         D  Democratic\\r\\n      0   \n",
       "2  George Wallace\\r\\n         D  Democratic\\r\\n      0   \n",
       "3     H. Guy Hunt\\r\\n         R  Republican\\r\\n      1   \n",
       "4      Jim Folsom\\r\\n         D  Democratic\\r\\n      0   \n",
       "\n",
       "                            inc_results    state abbrev  \\\n",
       "0  Term-limited, Democratic victory\\r\\n  Alabama     AL   \n",
       "1       Retired, Democratic victory\\r\\n  Alabama     AL   \n",
       "2       Retired, Republican victory\\r\\n  Alabama     AL   \n",
       "3                 Re-elected, 52.1%\\r\\n  Alabama     AL   \n",
       "4                   Defeated, 49.4%\\r\\n  Alabama     AL   \n",
       "\n",
       "                              rival  year  \n",
       "0       Fob James (Democratic) 72.6  1978  \n",
       "1  George Wallace (Democratic) 57.6  1982  \n",
       "2     H. Guy Hunt (Republican) 56.4  1986  \n",
       "3    Paul Hubbert (Democratic) 47.9  1990  \n",
       "4       Fob James (Republican) 50.3  1994  "
      ]
     },
     "execution_count": 3,
     "metadata": {},
     "output_type": "execute_result"
    }
   ],
   "source": [
    "govs.head()"
   ]
  },
  {
   "cell_type": "code",
   "execution_count": null,
   "metadata": {},
   "outputs": [],
   "source": []
  },
  {
   "cell_type": "code",
   "execution_count": null,
   "metadata": {},
   "outputs": [],
   "source": []
  },
  {
   "cell_type": "code",
   "execution_count": null,
   "metadata": {},
   "outputs": [],
   "source": []
  },
  {
   "cell_type": "code",
   "execution_count": null,
   "metadata": {},
   "outputs": [],
   "source": []
  },
  {
   "cell_type": "code",
   "execution_count": null,
   "metadata": {},
   "outputs": [],
   "source": []
  },
  {
   "cell_type": "code",
   "execution_count": null,
   "metadata": {},
   "outputs": [],
   "source": [
    "govs.to_csv('./governors_races_cleaned.csv')\n",
    "sens.to_csv('./senate_races_cleaned.csv')"
   ]
  }
 ],
 "metadata": {
  "kernelspec": {
   "display_name": "Python 3",
   "language": "python",
   "name": "python3"
  },
  "language_info": {
   "codemirror_mode": {
    "name": "ipython",
    "version": 3
   },
   "file_extension": ".py",
   "mimetype": "text/x-python",
   "name": "python",
   "nbconvert_exporter": "python",
   "pygments_lexer": "ipython3",
   "version": "3.6.5"
  }
 },
 "nbformat": 4,
 "nbformat_minor": 2
}
